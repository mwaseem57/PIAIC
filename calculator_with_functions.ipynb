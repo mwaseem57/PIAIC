{
 "cells": [
  {
   "cell_type": "code",
   "execution_count": 1,
   "metadata": {},
   "outputs": [
    {
     "name": "stdout",
     "output_type": "stream",
     "text": [
      "The result is: 27.5\n"
     ]
    }
   ],
   "source": [
    "num1 = float(input(\"Enter first number: \"))\n",
    "num2 = float(input(\"Enter second number: \"))\n",
    "operation = input(\"Enter operation: \")\n",
    "\n",
    "#Addition Function\n",
    "def add(num1, num2):\n",
    "    sum = num1 + num2\n",
    "    return sum\n",
    "\n",
    "#Subtraction Function\n",
    "def subtract(num1, num2):\n",
    "    diff = num1 - num2\n",
    "    return diff\n",
    "\n",
    "#multiplication Function\n",
    "def multiply(num1, num2):\n",
    "    multi = num1 * num2\n",
    "    return multi\n",
    "\n",
    "#Division Function\n",
    "def divide(num1, num2):\n",
    "  if num2 == 0:\n",
    "    return \"Division by zero is not allowed.\"\n",
    "  else:\n",
    "    div = num1 / num2\n",
    "    return div\n",
    "\n",
    "match operation:\n",
    "    case \"+\":\n",
    "      print(\"The result is: \" + str(add(num1, num2)))\n",
    "\n",
    "    case \"-\":\n",
    "      print(\"The result is: \" + str(subtract(num1, num2)))\n",
    "\n",
    "    case \"*\":\n",
    "      print(\"The result is: \" + str(multiply(num1, num2)))\n",
    "\n",
    "    case \"/\":\n",
    "      print(\"The result is: \" + str(divide(num1, num2)))\n",
    "\n",
    "    case _:\n",
    "      print(\"Please enter the operator among +,-,*,/\")\n",
    "\n"
   ]
  }
 ],
 "metadata": {
  "kernelspec": {
   "display_name": "Python 3",
   "language": "python",
   "name": "python3"
  },
  "language_info": {
   "codemirror_mode": {
    "name": "ipython",
    "version": 3
   },
   "file_extension": ".py",
   "mimetype": "text/x-python",
   "name": "python",
   "nbconvert_exporter": "python",
   "pygments_lexer": "ipython3",
   "version": "3.12.6"
  }
 },
 "nbformat": 4,
 "nbformat_minor": 2
}
