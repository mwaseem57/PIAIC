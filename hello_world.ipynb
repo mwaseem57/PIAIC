{
 "cells": [
  {
   "cell_type": "code",
   "execution_count": 1,
   "metadata": {},
   "outputs": [
    {
     "name": "stdout",
     "output_type": "stream",
     "text": [
      "Hello, World!\n",
      "Muhammad\n",
      "Muhammad Waseem\n",
      "1,2,3\n",
      "Hello\n",
      "World\n",
      "Hello\tWorld\n",
      "Apple Banana Cherry\n",
      "1-2-3\n",
      "Hello World\n",
      "\"Hello!\"\n",
      "This is backslash:\\\n",
      "I am 30 years old\n",
      "This is number 5\n",
      "1\n",
      "2\n",
      "3\n",
      "4\n",
      "5\n"
     ]
    }
   ],
   "source": [
    "print(\"Hello, World!\")\n",
    "print(\"Muhammad\")\n",
    "print(\"Muhammad Waseem\")\n",
    "print(\"1,2,3\")\n",
    "print(\"Hello\\nWorld\")\n",
    "print(\"Hello\\tWorld\")\n",
    "print(\"Apple\",\"Banana\",\"Cherry\", sep=' ')\n",
    "print(\"1\",\"2\",\"3\", sep='-')\n",
    "print(\"Hello\", end=\" \")\n",
    "print(\"World\")\n",
    "print(\"\\\"Hello!\\\"\")\n",
    "print(\"This is backslash:\\\\\")\n",
    "print(\"I am 30 years old\")\n",
    "print(\"This is number 5\")\n",
    "for number in range(1,6):\n",
    "    print(number)"
   ]
  }
 ],
 "metadata": {
  "kernelspec": {
   "display_name": "Python 3",
   "language": "python",
   "name": "python3"
  },
  "language_info": {
   "codemirror_mode": {
    "name": "ipython",
    "version": 3
   },
   "file_extension": ".py",
   "mimetype": "text/x-python",
   "name": "python",
   "nbconvert_exporter": "python",
   "pygments_lexer": "ipython3",
   "version": "3.12.5"
  }
 },
 "nbformat": 4,
 "nbformat_minor": 2
}
