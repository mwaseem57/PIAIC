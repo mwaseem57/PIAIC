{
 "cells": [
  {
   "cell_type": "code",
   "execution_count": 1,
   "metadata": {},
   "outputs": [
    {
     "name": "stdout",
     "output_type": "stream",
     "text": [
      "Hello, Waseem! Lets explore the numbers:\n",
      "[('22', 'even'), ('55', 'odd'), ('32', 'even')]\n",
      "The number and its square is: ('22', 484)\n",
      "The number and its square is: ('55', 3025)\n",
      "The number and its square is: ('32', 1024)\n",
      "Amazing! The sum of favourite numbers is: 109\n",
      "Wow, 109, is a prime number.\n"
     ]
    }
   ],
   "source": [
    "name = input(\"Please enter your name: \")\n",
    "firstNumber = input(\"Please enter your first favourite number: \")\n",
    "secondNumber = input(\"Please enter your second favourite number: \")\n",
    "thirdNumber = input(\"Please enter your third favourite number: \")\n",
    "\n",
    "numbers = [firstNumber, secondNumber, thirdNumber]\n",
    "\n",
    "print(\"Hello, \" + name + \"! Lets explore the numbers:\")\n",
    "\n",
    "listOfTuples = []\n",
    "for n in numbers:\n",
    "    if int(n) % 2 == 0:\n",
    "      listOfTuples.append((n, \"even\"))\n",
    "    else:\n",
    "      listOfTuples.append((n, \"odd\"))\n",
    "\n",
    "print(listOfTuples)\n",
    "\n",
    "squareTupleList = []\n",
    "for n in listOfTuples:\n",
    "    squareTupleList.append((n[0] , int(n[0]) * int(n[0])))\n",
    "\n",
    "for i in range(len(squareTupleList)):\n",
    "  print(\"The number and its square is: \" + str(squareTupleList[i]))\n",
    "\n",
    "sum = 0\n",
    "for n in numbers:\n",
    "  sum += int(n)\n",
    "print(\"Amazing! The sum of favourite numbers is: \"+ str(sum))\n",
    "\n",
    "def isPrime(n):\n",
    "  if n <= 1:\n",
    "    return False\n",
    "  for i in range(2, n):\n",
    "    if n % i == 0:\n",
    "      return False\n",
    "  return True\n",
    "\n",
    "if isPrime(sum):\n",
    "  print(\"Wow, \" + str(sum) + \", is a prime number.\")\n",
    "else:\n",
    "  print(\"Umumm, \" + str(sum) + \", is not a prime number.\")\n"
   ]
  }
 ],
 "metadata": {
  "kernelspec": {
   "display_name": "Python 3",
   "language": "python",
   "name": "python3"
  },
  "language_info": {
   "codemirror_mode": {
    "name": "ipython",
    "version": 3
   },
   "file_extension": ".py",
   "mimetype": "text/x-python",
   "name": "python",
   "nbconvert_exporter": "python",
   "pygments_lexer": "ipython3",
   "version": "3.12.7"
  }
 },
 "nbformat": 4,
 "nbformat_minor": 2
}
