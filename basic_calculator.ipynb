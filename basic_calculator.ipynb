{
 "cells": [
  {
   "cell_type": "code",
   "execution_count": 1,
   "metadata": {},
   "outputs": [],
   "source": [
    "fristValue = int(input(\"Enter the first value: \"))\n",
    "secondValue = int(input(\"Enter the second value: \"))\n",
    "operation = input(\"Enter operation \")\n",
    "\n",
    "if operation == '+':\n",
    "    result = fristValue + secondValue\n",
    "    print(\"The output is \" + str(result))\n",
    "\n",
    "if operation == '-':\n",
    "    result = fristValue - secondValue\n",
    "    print(\"The output is \" + str(result))\n",
    "\n",
    "if operation == '*':\n",
    "    result = fristValue * secondValue\n",
    "    print(\"The output is \" + str(result))\n",
    "\n",
    "if operation == '/':\n",
    "    result = fristValue / secondValue\n",
    "    print(\"The output is \" + str(result))\n",
    "\n"
   ]
  }
 ],
 "metadata": {
  "kernelspec": {
   "display_name": "Python 3",
   "language": "python",
   "name": "python3"
  },
  "language_info": {
   "codemirror_mode": {
    "name": "ipython",
    "version": 3
   },
   "file_extension": ".py",
   "mimetype": "text/x-python",
   "name": "python",
   "nbconvert_exporter": "python",
   "pygments_lexer": "ipython3",
   "version": "3.12.6"
  }
 },
 "nbformat": 4,
 "nbformat_minor": 2
}
