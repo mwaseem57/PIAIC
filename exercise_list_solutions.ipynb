{
 "cells": [
  {
   "cell_type": "code",
   "execution_count": 1,
   "metadata": {},
   "outputs": [
    {
     "name": "stdout",
     "output_type": "stream",
     "text": [
      "fahad\n",
      "junaid\n",
      "amir\n",
      "zeeshan\n",
      "faisal\n"
     ]
    }
   ],
   "source": [
    "# Names\n",
    "names = ['fahad','junaid','amir','zeeshan','faisal']\n",
    "for n in names:\n",
    "    print(n)"
   ]
  },
  {
   "cell_type": "code",
   "execution_count": 7,
   "metadata": {},
   "outputs": [
    {
     "name": "stdout",
     "output_type": "stream",
     "text": [
      "Hello fahad! How are you?\n",
      "Hello junaid! How are you?\n",
      "Hello amir! How are you?\n",
      "Hello zeeshan! How are you?\n",
      "Hello faisal! How are you?\n"
     ]
    }
   ],
   "source": [
    "# Greetings\n",
    "for m in names:\n",
    "    print(\"Hello \"+m+\"! How are you?\")"
   ]
  },
  {
   "cell_type": "code",
   "execution_count": 10,
   "metadata": {},
   "outputs": [
    {
     "name": "stdout",
     "output_type": "stream",
     "text": [
      "I would like to own a Honda 150 Motorcycle\n",
      "I would like to own a Range Rover Sport\n",
      "I would like to own a Toyota Land Cruiser\n",
      "I would like to own a Helicopter\n",
      "I would like to own a Private Jet\n"
     ]
    }
   ],
   "source": [
    "# Your own list\n",
    "transportation = ['Honda 150 Motorcycle','Range Rover Sport','Toyota Land Cruiser','Helicopter','Private Jet']\n",
    "for trs in transportation:\n",
    "    print(\"I would like to own a \"+trs)"
   ]
  },
  {
   "cell_type": "code",
   "execution_count": 214,
   "metadata": {},
   "outputs": [
    {
     "name": "stdout",
     "output_type": "stream",
     "text": [
      "Hi Ahad,\n",
      "\n",
      "I hope you're doing well! I would love to have you over for dinner at my place this weekend. It would be great to catch up and enjoy a nice meal together.\n",
      "\n",
      "Hi Naveed,\n",
      "\n",
      "I hope you're doing well! I would love to have you over for dinner at my place this weekend. It would be great to catch up and enjoy a nice meal together.\n",
      "\n",
      "Hi Naeem,\n",
      "\n",
      "I hope you're doing well! I would love to have you over for dinner at my place this weekend. It would be great to catch up and enjoy a nice meal together.\n",
      "\n"
     ]
    }
   ],
   "source": [
    "# Guest List\n",
    "guests = ['Ahad','Naveed','Naeem']\n",
    "for guest in guests:\n",
    "    print(\"\"\"Hi {guest},\n",
    "\n",
    "I hope you're doing well! I would love to have you over for dinner at my place this weekend. It would be great to catch up and enjoy a nice meal together.\\n\"\"\"\n",
    ".format(guest=guest))"
   ]
  },
  {
   "cell_type": "code",
   "execution_count": 215,
   "metadata": {},
   "outputs": [
    {
     "name": "stdout",
     "output_type": "stream",
     "text": [
      "Mr. Ahad can not make it\n",
      "Hi Fahad,\n",
      "\n",
      "I hope you're doing well! I would love to have you over for dinner at my place this weekend. It would be great to catch up and enjoy a nice meal together.\n",
      "\n",
      "Hi Naveed,\n",
      "\n",
      "I hope you're doing well! I would love to have you over for dinner at my place this weekend. It would be great to catch up and enjoy a nice meal together.\n",
      "\n",
      "Hi Naeem,\n",
      "\n",
      "I hope you're doing well! I would love to have you over for dinner at my place this weekend. It would be great to catch up and enjoy a nice meal together.\n",
      "\n"
     ]
    }
   ],
   "source": [
    "# Changing Guests List\n",
    "print(\"Mr. \"+guests[0]+ \" can not make it\")\n",
    "guests.remove(guests[0])\n",
    "guests.insert(0, \"Fahad\")\n",
    "for guest in guests:\n",
    "    print(\"\"\"Hi {guest},\n",
    "\n",
    "I hope you're doing well! I would love to have you over for dinner at my place this weekend. It would be great to catch up and enjoy a nice meal together.\\n\"\"\"\n",
    ".format(guest=guest))\n"
   ]
  },
  {
   "cell_type": "code",
   "execution_count": 216,
   "metadata": {},
   "outputs": [
    {
     "name": "stdout",
     "output_type": "stream",
     "text": [
      "Hi Fahad, I have found a bigger table in royal palm. Sending you the new invitation shortly\n",
      "Hi Naveed, I have found a bigger table in royal palm. Sending you the new invitation shortly\n",
      "Hi Naeem, I have found a bigger table in royal palm. Sending you the new invitation shortly\n",
      "Hi Sohail,\n",
      "I would love to have you over for dinner at Royal Palm Hotel. Please be there at 9'O Clock tomorrow.\n",
      "\n",
      "Hi Fahad,\n",
      "I would love to have you over for dinner at Royal Palm Hotel. Please be there at 9'O Clock tomorrow.\n",
      "\n",
      "Hi Ahmed,\n",
      "I would love to have you over for dinner at Royal Palm Hotel. Please be there at 9'O Clock tomorrow.\n",
      "\n",
      "Hi Naveed,\n",
      "I would love to have you over for dinner at Royal Palm Hotel. Please be there at 9'O Clock tomorrow.\n",
      "\n",
      "Hi Naeem,\n",
      "I would love to have you over for dinner at Royal Palm Hotel. Please be there at 9'O Clock tomorrow.\n",
      "\n",
      "Hi Junaid,\n",
      "I would love to have you over for dinner at Royal Palm Hotel. Please be there at 9'O Clock tomorrow.\n",
      "\n"
     ]
    }
   ],
   "source": [
    "# More Guests\n",
    "for update in guests:\n",
    "    print(\"Hi \" +str(update)+\", I have found a bigger table in royal palm. Sending you the new invitation shortly\")\n",
    "guests.insert(0, \"Sohail\")\n",
    "guests.insert(2, \"Ahmed\")\n",
    "guests.append(\"Junaid\")\n",
    "for guest in guests:\n",
    "    print(\"\"\"Hi {guest},\n",
    "I would love to have you over for dinner at Royal Palm Hotel. Please be there at 9'O Clock tomorrow.\\n\"\"\"\n",
    ".format(guest=guest))"
   ]
  },
  {
   "cell_type": "code",
   "execution_count": 217,
   "metadata": {},
   "outputs": [
    {
     "name": "stdout",
     "output_type": "stream",
     "text": [
      "I can invite only 2 guests\n",
      "Sorry Junaid I can't invite you to the dinner\n",
      "Sorry Naeem I can't invite you to the dinner\n",
      "Sorry Naveed I can't invite you to the dinner\n",
      "Sorry Ahmed I can't invite you to the dinner\n",
      "Sohail! You are still invited\n",
      "Fahad! You are still invited\n",
      "[]\n"
     ]
    }
   ],
   "source": [
    "#Shrinking Guest List\n",
    "\n",
    "print(\"I can invite only 2 guests\")\n",
    "while True:\n",
    "    if len(guests)>2:\n",
    "        guest = guests.pop()\n",
    "        print(\"Sorry \" + guest+ \" I can't invite you to the dinner\")\n",
    "    else:\n",
    "        break\n",
    "for guest in guests:\n",
    "    print(guest+\"! You are still invited\")\n",
    "\n",
    "#del guests[0]\n",
    "#del guests[1]\n",
    "#print(guests)\n",
    "\n",
    "del guests[-1]\n",
    "del guests[-1]\n",
    "print(guests)\n"
   ]
  },
  {
   "cell_type": "code",
   "execution_count": 206,
   "metadata": {},
   "outputs": [
    {
     "name": "stdout",
     "output_type": "stream",
     "text": [
      "['Turkey', 'France', 'USA', 'England', 'Spain']\n",
      "['England', 'France', 'Spain', 'Turkey', 'USA']\n",
      "['USA', 'Turkey', 'Spain', 'France', 'England']\n",
      "['England', 'France', 'Spain', 'Turkey', 'USA']\n",
      "['USA', 'Turkey', 'Spain', 'France', 'England']\n",
      "['England', 'France', 'Spain', 'Turkey', 'USA']\n",
      "['USA', 'Turkey', 'Spain', 'France', 'England']\n"
     ]
    }
   ],
   "source": [
    "# Seeing the world\n",
    "\n",
    "locations = ['Turkey','France','USA','England','Spain']\n",
    "print(locations)\n",
    "sorted_locations = sorted(locations)\n",
    "print(sorted_locations)\n",
    "reverse_locations = sorted(locations, reverse=True)\n",
    "print(reverse_locations)\n",
    "reverse_locations.reverse()\n",
    "print(reverse_locations)\n",
    "reverse_locations.reverse()\n",
    "print(reverse_locations)\n",
    "reverse_locations.sort()\n",
    "print(reverse_locations)\n",
    "reverse_locations.sort(reverse=True)\n",
    "print(reverse_locations)"
   ]
  },
  {
   "cell_type": "code",
   "execution_count": 208,
   "metadata": {},
   "outputs": [
    {
     "name": "stdout",
     "output_type": "stream",
     "text": [
      "Original list: ['mountain', 'river', 'city', 'forest', 'desert']\n",
      "Appended list: ['mountain', 'river', 'city', 'forest', 'desert', 'beach']\n",
      "Inserted item: ['mountain', 'river', 'lake', 'city', 'forest', 'desert', 'beach']\n",
      "Removed item: ['mountain', 'river', 'lake', 'city', 'desert', 'beach']\n",
      "List after modifications: ['river', 'lake', 'city', 'desert', 'beach']\n",
      "Sorted list: ['beach', 'city', 'desert', 'lake', 'river']\n",
      "Reverse sorted list: ['river', 'lake', 'desert', 'city', 'beach']\n",
      "Reversed list: ['beach', 'desert', 'city', 'lake', 'river']\n",
      "Sorted list in place: ['beach', 'city', 'desert', 'lake', 'river']\n",
      "Reverse sorted list in place: ['river', 'lake', 'desert', 'city', 'beach']\n"
     ]
    }
   ],
   "source": [
    "# Every Function\n",
    "\n",
    "items = ['mountain', 'river', 'city', 'forest', 'desert']\n",
    "print(\"Original list:\", items)\n",
    "\n",
    "items.append('beach')\n",
    "print(\"Appended list:\", items)\n",
    "items.insert(2, 'lake')\n",
    "print(\"Inserted item:\", items)\n",
    "items.remove('forest')\n",
    "print(\"Removed item:\", items)\n",
    "del items[0]  \n",
    "\n",
    "print(\"List after modifications:\", items)\n",
    "\n",
    "print(\"Sorted list:\", sorted(items))\n",
    "\n",
    "print(\"Reverse sorted list:\", sorted(items, reverse=True))\n",
    "\n",
    "items.reverse()\n",
    "print(\"Reversed list:\", items)\n",
    "\n",
    "items.sort()\n",
    "print(\"Sorted list in place:\", items)\n",
    "\n",
    "items.sort(reverse=True)\n",
    "print(\"Reverse sorted list in place:\", items)\n"
   ]
  }
 ],
 "metadata": {
  "kernelspec": {
   "display_name": "Python 3",
   "language": "python",
   "name": "python3"
  },
  "language_info": {
   "codemirror_mode": {
    "name": "ipython",
    "version": 3
   },
   "file_extension": ".py",
   "mimetype": "text/x-python",
   "name": "python",
   "nbconvert_exporter": "python",
   "pygments_lexer": "ipython3",
   "version": "3.12.6"
  }
 },
 "nbformat": 4,
 "nbformat_minor": 2
}
