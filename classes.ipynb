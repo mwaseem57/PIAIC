{
 "cells": [
  {
   "cell_type": "code",
   "execution_count": 22,
   "metadata": {},
   "outputs": [
    {
     "name": "stdout",
     "output_type": "stream",
     "text": [
      "My first Name is: Muhammad \n",
      "My last name is: Waseem\n"
     ]
    }
   ],
   "source": [
    "class Student:\n",
    "    def __init__(self,firstName,lastName):\n",
    "        self.firstName = firstName\n",
    "        self.lastName = lastName\n",
    "\n",
    "    def printName(self):\n",
    "        print(\"My first Name is: \"+ self.firstName,\"\\nMy last name is: \"+ self.lastName)\n",
    "\n",
    "std = Student(\"Muhammad\",\"Waseem\")\n",
    "std.printName()"
   ]
  },
  {
   "cell_type": "code",
   "execution_count": 33,
   "metadata": {},
   "outputs": [
    {
     "name": "stdout",
     "output_type": "stream",
     "text": [
      "Waseem\n",
      "5.9\n",
      "I can walk\n",
      "Fahad\n",
      "5.7\n",
      "I can talk\n"
     ]
    }
   ],
   "source": [
    "class Person:\n",
    "    def __init__(self,name,height):\n",
    "        self.name = name\n",
    "        self.height = height\n",
    "\n",
    "    def walk(self):\n",
    "        print(\"I can walk\")\n",
    "    def talk(self):\n",
    "        print(\"I can talk\")\n",
    "    def eat(self):\n",
    "        print(\"I can eat\")\n",
    "\n",
    "person = Person(\"Waseem\",5.9)\n",
    "person1 = Person(\"Fahad\", 5.7)\n",
    "print(person.name)\n",
    "print(person.height)\n",
    "person.walk()\n",
    "print(person1.name)\n",
    "print(person1.height)\n",
    "person1.talk()\n"
   ]
  },
  {
   "cell_type": "code",
   "execution_count": 37,
   "metadata": {},
   "outputs": [
    {
     "name": "stdout",
     "output_type": "stream",
     "text": [
      "I have 3 sides\n",
      "I have 4 sides\n",
      "I have 5 sides\n",
      "I have 6 sides\n"
     ]
    }
   ],
   "source": [
    "#abstract class & abstract method\n",
    "\n",
    "# abstract base class work\n",
    "from abc import ABC, abstractmethod\n",
    "\n",
    "\n",
    "class Polygon(ABC):\n",
    "\n",
    "    @abstractmethod\n",
    "    def noofsides(self):\n",
    "        pass\n",
    "\n",
    "\n",
    "class Triangle(Polygon):\n",
    "\n",
    "    # overriding abstract method\n",
    "    def noofsides(self):\n",
    "        print(\"I have 3 sides\")\n",
    "\n",
    "\n",
    "class Pentagon(Polygon):\n",
    "\n",
    "    # overriding abstract method\n",
    "    def noofsides(self):\n",
    "        print(\"I have 5 sides\")\n",
    "\n",
    "\n",
    "class Hexagon(Polygon):\n",
    "\n",
    "    # overriding abstract method\n",
    "    def noofsides(self):\n",
    "        print(\"I have 6 sides\")\n",
    "\n",
    "\n",
    "class Quadrilateral(Polygon):\n",
    "\n",
    "    # overriding abstract method\n",
    "    def noofsides(self):\n",
    "        print(\"I have 4 sides\")\n",
    "\n",
    "\n",
    "# Driver code\n",
    "R = Triangle()\n",
    "R.noofsides()\n",
    "\n",
    "K = Quadrilateral()\n",
    "K.noofsides()\n",
    "\n",
    "R = Pentagon()\n",
    "R.noofsides()\n",
    "\n",
    "K = Hexagon()\n",
    "K.noofsides()"
   ]
  },
  {
   "cell_type": "code",
   "execution_count": 44,
   "metadata": {},
   "outputs": [
    {
     "name": "stdout",
     "output_type": "stream",
     "text": [
      "I can crawl\n",
      "I can run, walk and bark\n",
      "I can run, walk and roar\n"
     ]
    }
   ],
   "source": [
    "#inheritance\n",
    "\n",
    "class Animal():\n",
    "\n",
    "    def move(self):\n",
    "        print(\"I can move\")\n",
    "\n",
    "class Human(Animal):\n",
    "\n",
    "    def move(self):\n",
    "        pass\n",
    "\n",
    "class Snake(Animal):\n",
    "\n",
    "    def move(self):\n",
    "        print(\"I can crawl\")\n",
    "\n",
    "class Dog(Animal):\n",
    "\n",
    "    def move(self):\n",
    "        print(\"I can run, walk and bark\")\n",
    "\n",
    "class Lion(Animal):\n",
    "\n",
    "    def move(self):\n",
    "        print(\"I can run, walk and roar\")\n",
    "\n",
    "\n",
    "human = Human()\n",
    "human.move()\n",
    "\n",
    "snake = Snake()\n",
    "snake.move()\n",
    "\n",
    "dog = Dog()\n",
    "dog.move()\n",
    "\n",
    "lion = Lion()\n",
    "lion.move()"
   ]
  },
  {
   "cell_type": "code",
   "execution_count": 61,
   "metadata": {},
   "outputs": [
    {
     "name": "stdout",
     "output_type": "stream",
     "text": [
      "waseem\n",
      "fahad\n"
     ]
    }
   ],
   "source": [
    "#public\n",
    "#private\n",
    "#protected\n",
    "\n",
    "\n",
    "class Pers:\n",
    "    def __init__(self,name,age,height):\n",
    "        self.name = name\n",
    "        self.__age = age\n",
    "        self._height = height\n",
    "\n",
    "    def printName(self):\n",
    "        print(\"My Name is: \"+ self.name,\"\\nMy age is: \"+ self.age)\n",
    "\n",
    "class Std(Pers):\n",
    "    pers1 = Pers('waseem',30,5.8)\n",
    "    print(pers1.name)\n",
    "    #print(pers1.__age)\n",
    "\n",
    "\n",
    "std1 = Std('fahad',29,5.7)\n",
    "print(std1.name)"
   ]
  }
 ],
 "metadata": {
  "kernelspec": {
   "display_name": "Python 3",
   "language": "python",
   "name": "python3"
  },
  "language_info": {
   "codemirror_mode": {
    "name": "ipython",
    "version": 3
   },
   "file_extension": ".py",
   "mimetype": "text/x-python",
   "name": "python",
   "nbconvert_exporter": "python",
   "pygments_lexer": "ipython3",
   "version": "3.12.7"
  }
 },
 "nbformat": 4,
 "nbformat_minor": 2
}
