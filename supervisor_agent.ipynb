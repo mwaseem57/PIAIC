{
  "nbformat": 4,
  "nbformat_minor": 0,
  "metadata": {
    "colab": {
      "provenance": [],
      "authorship_tag": "ABX9TyPeNIUkAZCX0eDK2GggSYCu",
      "include_colab_link": true
    },
    "kernelspec": {
      "name": "python3",
      "display_name": "Python 3"
    },
    "language_info": {
      "name": "python"
    }
  },
  "cells": [
    {
      "cell_type": "markdown",
      "metadata": {
        "id": "view-in-github",
        "colab_type": "text"
      },
      "source": [
        "<a href=\"https://colab.research.google.com/github/mwaseem57/PIAIC/blob/main/supervisor_agent.ipynb\" target=\"_parent\"><img src=\"https://colab.research.google.com/assets/colab-badge.svg\" alt=\"Open In Colab\"/></a>"
      ]
    },
    {
      "cell_type": "code",
      "execution_count": 1,
      "metadata": {
        "colab": {
          "base_uri": "https://localhost:8080/"
        },
        "id": "PohQTHGw23Lm",
        "outputId": "59f6e620-3174-42a2-f961-a8af494123bc"
      },
      "outputs": [
        {
          "output_type": "stream",
          "name": "stdout",
          "text": [
            "\u001b[?25l   \u001b[90m━━━━━━━━━━━━━━━━━━━━━━━━━━━━━━━━━━━━━━━━\u001b[0m \u001b[32m0.0/116.9 kB\u001b[0m \u001b[31m?\u001b[0m eta \u001b[36m-:--:--\u001b[0m\r\u001b[2K   \u001b[90m━━━━━━━━━━━━━━━━━━━━━━━━━━━━━━━━━━━━━━━━\u001b[0m \u001b[32m116.9/116.9 kB\u001b[0m \u001b[31m6.1 MB/s\u001b[0m eta \u001b[36m0:00:00\u001b[0m\n",
            "\u001b[?25h\u001b[?25l   \u001b[90m━━━━━━━━━━━━━━━━━━━━━━━━━━━━━━━━━━━━━━━━\u001b[0m \u001b[32m0.0/129.3 kB\u001b[0m \u001b[31m?\u001b[0m eta \u001b[36m-:--:--\u001b[0m\r\u001b[2K   \u001b[90m━━━━━━━━━━━━━━━━━━━━━━━━━━━━━━━━━━━━━━━━\u001b[0m \u001b[32m129.3/129.3 kB\u001b[0m \u001b[31m7.5 MB/s\u001b[0m eta \u001b[36m0:00:00\u001b[0m\n",
            "\u001b[?25h\u001b[?25l   \u001b[90m━━━━━━━━━━━━━━━━━━━━━━━━━━━━━━━━━━━━━━━━\u001b[0m \u001b[32m0.0/100.4 kB\u001b[0m \u001b[31m?\u001b[0m eta \u001b[36m-:--:--\u001b[0m\r\u001b[2K   \u001b[90m━━━━━━━━━━━━━━━━━━━━━━━━━━━━━━━━━━━━━━━━\u001b[0m \u001b[32m100.4/100.4 kB\u001b[0m \u001b[31m7.7 MB/s\u001b[0m eta \u001b[36m0:00:00\u001b[0m\n",
            "\u001b[2K   \u001b[90m━━━━━━━━━━━━━━━━━━━━━━━━━━━━━━━━━━━━━━━━\u001b[0m \u001b[32m44.4/44.4 kB\u001b[0m \u001b[31m2.8 MB/s\u001b[0m eta \u001b[36m0:00:00\u001b[0m\n",
            "\u001b[2K   \u001b[90m━━━━━━━━━━━━━━━━━━━━━━━━━━━━━━━━━━━━━━━━\u001b[0m \u001b[32m72.0/72.0 kB\u001b[0m \u001b[31m5.6 MB/s\u001b[0m eta \u001b[36m0:00:00\u001b[0m\n",
            "\u001b[2K   \u001b[90m━━━━━━━━━━━━━━━━━━━━━━━━━━━━━━━━━━━━━━━━\u001b[0m \u001b[32m62.5/62.5 kB\u001b[0m \u001b[31m4.8 MB/s\u001b[0m eta \u001b[36m0:00:00\u001b[0m\n",
            "\u001b[?25h"
          ]
        }
      ],
      "source": [
        "!pip install -Uq openai-agents"
      ]
    },
    {
      "cell_type": "code",
      "source": [
        "import nest_asyncio\n",
        "nest_asyncio.apply()"
      ],
      "metadata": {
        "id": "KKdeZ2Gt2-7k"
      },
      "execution_count": 2,
      "outputs": []
    },
    {
      "cell_type": "code",
      "source": [
        "import os\n",
        "from agents import Agent, Runner, AsyncOpenAI, OpenAIChatCompletionsModel\n",
        "from agents.run import RunConfig\n",
        "from google.colab import userdata\n",
        "\n",
        "\n",
        "gemini_api_key = userdata.get(\"GOOGLE_API_KEY\")\n",
        "\n",
        "\n",
        "# Check if the API key is present; if not, raise an error\n",
        "if not gemini_api_key:\n",
        "    raise ValueError(\"GEMINI_API_KEY is not set. Please ensure it is defined in your .env file.\")\n",
        "\n",
        "#Reference: https://ai.google.dev/gemini-api/docs/openai\n",
        "external_client = AsyncOpenAI(\n",
        "    api_key=gemini_api_key,\n",
        "    base_url=\"https://generativelanguage.googleapis.com/v1beta/openai/\",\n",
        ")\n",
        "\n",
        "model = OpenAIChatCompletionsModel(\n",
        "    model=\"gemini-2.0-flash\",\n",
        "    openai_client=external_client\n",
        ")\n",
        "\n",
        "config = RunConfig(\n",
        "    model=model,\n",
        "    model_provider=external_client,\n",
        "    tracing_disabled=True\n",
        ")"
      ],
      "metadata": {
        "id": "OUPk2qD33H4P"
      },
      "execution_count": 4,
      "outputs": []
    },
    {
      "cell_type": "code",
      "source": [
        "import os\n",
        "from agents import Agent, Runner, AsyncOpenAI, OpenAIChatCompletionsModel, set_default_openai_client\n",
        "from agents.run import RunConfig\n",
        "from google.colab import userdata\n",
        "\n",
        "\n",
        "gemini_api_key = userdata.get(\"GOOGLE_API_KEY\")\n",
        "\n",
        "\n",
        "external_client = AsyncOpenAI(\n",
        "    api_key=gemini_api_key,\n",
        "    base_url=\"https://generativelanguage.googleapis.com/v1beta/openai/\",\n",
        ")\n",
        "set_default_openai_client(external_client)"
      ],
      "metadata": {
        "id": "hsRYHvxX3PdG"
      },
      "execution_count": 5,
      "outputs": []
    },
    {
      "cell_type": "code",
      "source": [
        "from agents.tool import function_tool"
      ],
      "metadata": {
        "id": "oG2cBdS03Wti"
      },
      "execution_count": 6,
      "outputs": []
    },
    {
      "cell_type": "code",
      "source": [
        "import asyncio\n",
        "\n",
        "from agents import Agent, Runner, set_tracing_disabled\n",
        "set_tracing_disabled(True)\n",
        "\n",
        "async def main():\n",
        "    web_dev = Agent(\n",
        "        name=\"Web App Developer\",\n",
        "        instructions=\"You are responsible to create the web apps.\",\n",
        "        tools=[], # add tools here\n",
        "        model=model\n",
        "    )\n",
        "    mobile_dev = Agent(\n",
        "        name=\"Mobile App Developer\",\n",
        "        instructions=\"You are responsible to create the mobile apps.\",\n",
        "        tools=[], # add tools here\n",
        "        model=model\n",
        "    )\n",
        "    agentic_ai_dev = Agent(\n",
        "        name=\"Agentic AI App Developer\",\n",
        "        instructions=\"You are responsible to create the agentic ai apps\",\n",
        "        tools=[], # add tools here\n",
        "        model=model\n",
        "    )\n",
        "    panacloud_supervisor = Agent(\n",
        "        name=\"Panacloud Supervisor\",\n",
        "        instructions=\"You are the Supervisor.\",\n",
        "        tools=[],\n",
        "        handoffs=[web_dev, mobile_dev, agentic_ai_dev],\n",
        "        model=model\n",
        "    )\n",
        "\n",
        "    response = await Runner.run(panacloud_supervisor, \"I want to create the mobile app\")\n",
        "    print(f\"**{response.last_agent}**\\n\\n\"f\"{response.final_output}\")\n",
        "\n",
        "\n",
        "if __name__ == \"__main__\":\n",
        "    asyncio.run(main())"
      ],
      "metadata": {
        "colab": {
          "base_uri": "https://localhost:8080/"
        },
        "id": "Zy_lAkyf3cf9",
        "outputId": "0b84516a-b4a2-46b5-a46c-0e4f3969f2ac"
      },
      "execution_count": 31,
      "outputs": [
        {
          "output_type": "stream",
          "name": "stdout",
          "text": [
            "**Agent(name='Mobile App Developer', instructions='You are responsible to create the mobile apps.', handoff_description=None, handoffs=[], model=<agents.models.openai_chatcompletions.OpenAIChatCompletionsModel object at 0x788f95242650>, model_settings=ModelSettings(temperature=None, top_p=None, frequency_penalty=None, presence_penalty=None, tool_choice=None, parallel_tool_calls=None, truncation=None, max_tokens=None, reasoning=None, metadata=None, store=None, include_usage=None, extra_query=None, extra_body=None, extra_headers=None), tools=[], mcp_servers=[], mcp_config={}, input_guardrails=[], output_guardrails=[], output_type=None, hooks=None, tool_use_behavior='run_llm_again', reset_tool_choice=True)**\n",
            "\n",
            "Okay, great! I'm ready to help you create your mobile app. To get started, I need some information from you.  Let's break it down into key areas so we can figure out the best approach:\n",
            "\n",
            "**1. App Idea & Purpose:**\n",
            "\n",
            "*   **What problem does your app solve?**  What is the core purpose of your app? What need does it fulfill?\n",
            "*   **Target Audience:** Who are you building this app for?  (e.g., students, fitness enthusiasts, businesses, gamers, etc.)  Knowing your audience will influence design and features.\n",
            "*   **Unique Selling Proposition (USP):** What makes your app different or better than existing apps in the same category?  Why would someone choose your app over the competition?\n",
            "\n",
            "**2. Features & Functionality:**\n",
            "\n",
            "*   **Core Features:** What are the MUST-HAVE features that are essential for your app to function?\n",
            "*   **Secondary Features:** What are some \"nice-to-have\" features that would enhance the user experience but aren't strictly necessary for the core functionality?\n",
            "*   **List of specific functionalities:**  Think about things like:\n",
            "    *   User accounts (login, registration, profiles)\n",
            "    *   Data storage (local or cloud-based)\n",
            "    *   Push notifications\n",
            "    *   Location services (GPS)\n",
            "    *   Camera access\n",
            "    *   Social media integration\n",
            "    *   Payment processing\n",
            "    *   In-app purchases\n",
            "    *   Offline functionality\n",
            "    *   Search functionality\n",
            "    *   Mapping and navigation\n",
            "    *   Data visualization (charts, graphs)\n",
            "\n",
            "**3. Platform & Technology:**\n",
            "\n",
            "*   **Target Platforms:**  Which mobile platforms do you want to support? (iOS - Apple devices, Android - Google devices, or both).  Developing for both will require more resources.\n",
            "*   **Native vs. Cross-Platform:**\n",
            "    *   **Native:** Built specifically for a single platform (iOS or Android) using the platform's native languages (Swift/Objective-C for iOS, Java/Kotlin for Android). Offers the best performance and access to device features but requires separate codebases for each platform.\n",
            "    *   **Cross-Platform:**  Built using a single codebase that can be deployed to multiple platforms (iOS and Android).  Examples include:\n",
            "        *   **React Native:** Uses JavaScript and React to build native-like UIs.\n",
            "        *   **Flutter:** Uses Dart language and offers excellent performance and a rich set of widgets.\n",
            "        *   **Xamarin:** Uses C# and allows sharing a significant portion of code between platforms.\n",
            "        *   **Ionic/Cordova:** Uses web technologies (HTML, CSS, JavaScript) to create hybrid apps.\n",
            "*   **Backend (if needed):** Does your app require a backend server to store data, handle user authentication, or perform other server-side tasks?  If so, what technologies are you considering for the backend (e.g., Node.js, Python/Django, Ruby on Rails, PHP, cloud services like AWS, Google Cloud, Azure)?\n",
            "*   **Third-Party APIs & Services:** Will your app need to integrate with any third-party APIs (e.g., Google Maps, social media APIs, payment gateways)?\n",
            "\n",
            "**4. Design & User Interface (UI):**\n",
            "\n",
            "*   **General Style:** What kind of look and feel are you aiming for? (e.g., minimalist, modern, playful, professional)\n",
            "*   **Color Scheme:** Do you have any preferred colors or branding guidelines?\n",
            "*   **User Experience (UX):** How do you want users to interact with your app?  Consider the flow of actions and the overall usability.  Sketching out wireframes (basic screen layouts) can be very helpful at this stage.\n",
            "*   **Do you have any mockups or designs already?**\n",
            "\n",
            "**5. Budget & Timeline:**\n",
            "\n",
            "*   **Budget:** How much are you willing to invest in this app development? (This will heavily influence the scope of features and the development approach.)\n",
            "*   **Timeline:** When do you ideally want to launch the app? (Be realistic about the development time, which can vary greatly depending on the complexity of the app.)\n",
            "\n",
            "**6. Development Team:**\n",
            "\n",
            "*   **Will you be developing the app yourself?**\n",
            "*   **Will you be hiring a freelance developer or agency?**\n",
            "*   **Do you have a team already in place?**\n",
            "\n",
            "**Let's start with the first point: App Idea & Purpose.  Tell me as much as you can about what your app is meant to do.** The more details you provide, the better I can understand your vision and offer helpful guidance.\n",
            "\n"
          ]
        }
      ]
    }
  ]
}